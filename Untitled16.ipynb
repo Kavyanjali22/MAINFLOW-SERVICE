{
 "cells": [
  {
   "cell_type": "code",
   "execution_count": 3,
   "id": "592fefd3-c0ad-4d98-9667-39af6c418489",
   "metadata": {},
   "outputs": [
    {
     "name": "stdin",
     "output_type": "stream",
     "text": [
      "Enter a number: 5\n"
     ]
    },
    {
     "name": "stdout",
     "output_type": "stream",
     "text": [
      "5 is a prime number\n"
     ]
    }
   ],
   "source": [
    "# prime number\n",
    "\n",
    "def is_prime(number):\n",
    "    if number <= 1:\n",
    "        return False\n",
    "    for i in range (2, int(number**0.5)+1):\n",
    "        if number % i == 0:\n",
    "            return False\n",
    "    return True\n",
    "\n",
    "number= int(input(\"Enter a number:\"))\n",
    "if is_prime(number):\n",
    "    print(number, \"is a prime number\")\n",
    "else:\n",
    "    print(number, \"is not a prime number\")\n",
    "    "
   ]
  },
  {
   "cell_type": "code",
   "execution_count": 6,
   "id": "2af3a8c4-2e01-457c-adc3-ac855529ff4c",
   "metadata": {},
   "outputs": [
    {
     "name": "stdin",
     "output_type": "stream",
     "text": [
      "Enter a number:  54\n"
     ]
    },
    {
     "name": "stdout",
     "output_type": "stream",
     "text": [
      "The sum of the digits is 9.\n"
     ]
    }
   ],
   "source": [
    "# Input from the user\n",
    "num = int(input(\"Enter a number: \"))\n",
    "total = 0\n",
    "num = abs(num)\n",
    "while num > 0:\n",
    "    total += num % 10 \n",
    "    num //= 10    \n",
    "print(f\"The sum of the digits is {total}.\")\n"
   ]
  },
  {
   "cell_type": "code",
   "execution_count": 9,
   "id": "aa2dca96-6dbf-42d3-be73-c8c8df527a12",
   "metadata": {},
   "outputs": [
    {
     "name": "stdin",
     "output_type": "stream",
     "text": [
      "Enter a number: 12\n",
      "Enter a number: 6\n"
     ]
    },
    {
     "name": "stdout",
     "output_type": "stream",
     "text": [
      "gcd of 12 and 6 is 6\n",
      "lcm of 12 and 6 is 12\n"
     ]
    }
   ],
   "source": [
    "import math\n",
    "num1 = int(input(\"Enter a number:\"))\n",
    "num2 = int(input(\"Enter a number:\"))\n",
    "gcd_value = math.gcd(num1, num2)\n",
    "lcm_value = (num1*num2) // gcd_value\n",
    "print(f\"gcd of {num1} and {num2} is {gcd_value}\")\n",
    "print(f\"lcm of {num1} and {num2} is {lcm_value}\")\n"
   ]
  },
  {
   "cell_type": "code",
   "execution_count": 11,
   "id": "04d5430e-3da9-4559-a61f-d25cc8fb23ad",
   "metadata": {},
   "outputs": [
    {
     "name": "stdout",
     "output_type": "stream",
     "text": [
      "Welcome to the List Reversal Program!\n"
     ]
    },
    {
     "name": "stdin",
     "output_type": "stream",
     "text": [
      "Enter a list of integers separated by spaces:  1 6 4 2 7 3 7\n"
     ]
    },
    {
     "name": "stdout",
     "output_type": "stream",
     "text": [
      "The reversed list is: [7, 3, 7, 2, 4, 6, 1]\n"
     ]
    }
   ],
   "source": [
    "#list reverse\n",
    "def reverse_list(lst):\n",
    "    if not isinstance(lst, list):\n",
    "        print(\"Input must be a list of integers.\")\n",
    "        return None\n",
    "    start = 0\n",
    "    end = len(lst) - 1\n",
    "    \n",
    "    while start < end:\n",
    "        lst[start], lst[end] = lst[end], lst[start]\n",
    "        start += 1\n",
    "        end -= 1\n",
    "    \n",
    "    return lst\n",
    "\n",
    "def main():\n",
    "    print(\"Welcome to the List Reversal Program!\")\n",
    "    try:\n",
    "        user_input = input(\"Enter a list of integers separated by spaces: \")\n",
    "        lst = [int(x) for x in user_input.split()]\n",
    "        \n",
    "        reversed_list = reverse_list(lst)\n",
    "        if reversed_list is not None:\n",
    "            print(f\"The reversed list is: {reversed_list}\")\n",
    "    except ValueError:\n",
    "        print(\"Invalid input. Please enter a list of integers only.\")\n",
    "\n",
    "if __name__ == \"__main__\":\n",
    "    main()\n"
   ]
  },
  {
   "cell_type": "code",
   "execution_count": 12,
   "id": "c3200926-2f66-4772-982b-53638060717c",
   "metadata": {},
   "outputs": [
    {
     "name": "stdout",
     "output_type": "stream",
     "text": [
      "Welcome to the Duplicate Remover Program!\n"
     ]
    },
    {
     "name": "stdin",
     "output_type": "stream",
     "text": [
      "Enter numbers separated by spaces:  2 5 3 7 4 2 3 \n"
     ]
    },
    {
     "name": "stdout",
     "output_type": "stream",
     "text": [
      "List with unique elements: [2, 5, 3, 7, 4]\n"
     ]
    }
   ],
   "source": [
    "#Remove Duplicates\n",
    "def remove_duplicates_with_loop(lst):\n",
    "    unique_list = []\n",
    "    for item in lst:\n",
    "        if item not in unique_list:\n",
    "            unique_list.append(item)\n",
    "    return unique_list\n",
    "\n",
    "def main():\n",
    "    print(\"Welcome to the Duplicate Remover Program!\")\n",
    "    user_input = input(\"Enter numbers separated by spaces: \")\n",
    "    lst = [int(x) for x in user_input.split()]\n",
    "    \n",
    "    # Remove duplicates\n",
    "    unique_list = remove_duplicates_with_loop(lst)\n",
    "    print(f\"List with unique elements: {unique_list}\")\n",
    "\n",
    "if __name__ == \"__main__\":\n",
    "    main()\n"
   ]
  },
  {
   "cell_type": "code",
   "execution_count": 13,
   "id": "4474811e-5486-49f9-a7b0-6b16a22d47c2",
   "metadata": {},
   "outputs": [
    {
     "name": "stdin",
     "output_type": "stream",
     "text": [
      "Enter a string:  hi have a nice day\n"
     ]
    },
    {
     "name": "stdout",
     "output_type": "stream",
     "text": [
      "The length of the string is: 18\n"
     ]
    }
   ],
   "source": [
    "def string_length(s):\n",
    "    count = 0\n",
    "    for _ in s: \n",
    "        count += 1\n",
    "    return count\n",
    "\n",
    "def main():\n",
    "    user_input = input(\"Enter a string: \")\n",
    "\n",
    "    length = string_length(user_input)\n",
    "    print(f\"The length of the string is: {length}\")\n",
    "\n",
    "if __name__ == \"__main__\":\n",
    "    main()\n"
   ]
  },
  {
   "cell_type": "code",
   "execution_count": 14,
   "id": "c9b4eb09-bcfb-412f-af3b-fe80a3ced750",
   "metadata": {},
   "outputs": [
    {
     "name": "stdin",
     "output_type": "stream",
     "text": [
      "Enter a string:  Keep smiling always\n"
     ]
    },
    {
     "name": "stdout",
     "output_type": "stream",
     "text": [
      "Number of vowels: 6\n",
      "Number of consonants: 11\n"
     ]
    }
   ],
   "source": [
    "#Count Vowels and Consonants\n",
    "def count_vowels_and_consonants(s):\n",
    "    vowels = set('aeiouAEIOU')\n",
    "    vowel_count = 0\n",
    "    consonant_count = 0\n",
    "\n",
    "    for char in s:\n",
    "        if char.isalpha():\n",
    "            if char in vowels:\n",
    "                vowel_count += 1\n",
    "            else:\n",
    "                consonant_count += 1\n",
    "\n",
    "    return vowel_count, consonant_count\n",
    "\n",
    "def main():\n",
    "    user_input = input(\"Enter a string: \")\n",
    "\n",
    "    vowels, consonants = count_vowels_and_consonants(user_input)\n",
    "    print(f\"Number of vowels: {vowels}\")\n",
    "    print(f\"Number of consonants: {consonants}\")\n",
    "\n",
    "if __name__ == \"__main__\":\n",
    "    main()"
   ]
  },
  {
   "cell_type": "code",
   "execution_count": 16,
   "id": "9ea183f1-0a09-47cc-a140-2331d4dd60e8",
   "metadata": {},
   "outputs": [
    {
     "name": "stdout",
     "output_type": "stream",
     "text": [
      "Generated Maze:\n",
      "# # # # # # # # # # # # # # # # # # # # #\n",
      "# S # . . . # . . . # . # . . . . . . . #\n",
      "# . # . # . # . # . # . # . # # # # # . #\n",
      "# . # . # . . . # . . . # . # . # . . . #\n",
      "# . # # # . # # # # # # # . # . # . # # #\n",
      "# . . . # . . . . . . . # . . . # . . . #\n",
      "# # # . # # # # # # # . # # # . # # # . #\n",
      "# . . . . . . . . . # . . . . . # . # . #\n",
      "# # # # # # # # # . # # # . # . # . # . #\n",
      "# . . . . . . . # . . . # . # . . . # . #\n",
      "# . # # # # # # # # # . # . # # # # # . #\n",
      "# . . . . . . . . . # . # . # . . . . . #\n",
      "# . # # # # # # # . # . # # # . # # # . #\n",
      "# . . . # . . . # . # . . . . . # . . . #\n",
      "# # # . # . # . # . # # # # # # # . # # #\n",
      "# . # . . . # . # . . . . . # . # . # . #\n",
      "# . # # # # # . # . # # # . # . # . # . #\n",
      "# . # . . . # . # . . . # . . . # . . . #\n",
      "# . # . # # # . # # # . # # # # # # # . #\n",
      "# . . . . . . . . . # . . . . . . . . E #\n",
      "# # # # # # # # # # # # # # # # # # # # #\n",
      "\n",
      "Solution Path (marked with '*'):\n",
      "# # # # # # # # # # # # # # # # # # # # #\n",
      "# S # . . . # . . . # . # . . . . . . . #\n",
      "# - # . # . # . # . # . # . # # # # # . #\n",
      "# - # . # . . . # . . . # . # . # . . . #\n",
      "# - # # # . # # # # # # # . # . # . # # #\n",
      "# - - - # . . . . . . . # . . . # . . . #\n",
      "# # # - # # # # # # # . # # # . # # # . #\n",
      "# . . - - - - - - - # . . . . . # . # . #\n",
      "# # # # # # # # # - # # # . # . # . # . #\n",
      "# . . . . . . . # - - - # . # . . . # . #\n",
      "# . # # # # # # # # # - # . # # # # # . #\n",
      "# . . . . . . . . . # - # . # - - - - - #\n",
      "# . # # # # # # # . # - # # # - # # # - #\n",
      "# . . . # . . . # . # - - - - - # - - - #\n",
      "# # # . # . # . # . # # # # # # # - # # #\n",
      "# . # . . . # . # . . . . . # . # - # . #\n",
      "# . # # # # # . # . # # # . # . # - # . #\n",
      "# . # . . . # . # . . . # . . . # - - - #\n",
      "# . # . # # # . # # # . # # # # # # # - #\n",
      "# . . . . . . . . . # . . . . . . . . E #\n",
      "# # # # # # # # # # # # # # # # # # # # #\n"
     ]
    }
   ],
   "source": [
    "#Maze Generator and Solver\n",
    "import random\n",
    "\n",
    "directions = [(-1, 0), (1, 0), (0, -1), (0, 1)]\n",
    "\n",
    "def generate_maze(width, height):\n",
    "    \n",
    "    maze = [['#' for _ in range(width)] for _ in range(height)]\n",
    "    \n",
    "    def shuffle_directions():\n",
    "        random.shuffle(directions)\n",
    "    \n",
    "    \n",
    "    def carve(x, y):\n",
    "        maze[y][x] = '.'  \n",
    "        shuffle_directions()  \n",
    "        \n",
    "        for dx, dy in directions:\n",
    "            nx, ny = x + dx * 2, y + dy * 2  \n",
    "            \n",
    "            if 0 <= nx < width and 0 <= ny < height and maze[ny][nx] == '#':\n",
    "                maze[y + dy][x + dx] = '.'  \n",
    "                carve(nx, ny)  \n",
    "    \n",
    "    carve(1, 1)\n",
    "    \n",
    "    maze[1][1] = 'S' \n",
    "    maze[height - 2][width - 2] = 'E' \n",
    "    \n",
    "    return maze\n",
    "\n",
    "def print_maze(maze):\n",
    "    for row in maze:\n",
    "        print(' '.join(row))\n",
    "\n",
    "def dfs(maze, start, end):\n",
    "    stack = [start]\n",
    "    visited = set()\n",
    "    visited.add(start)\n",
    "    path = {}\n",
    "    \n",
    "    while stack:\n",
    "        current = stack[-1]\n",
    "        \n",
    "        if current == end:\n",
    "            break\n",
    "        \n",
    "        x, y = current\n",
    "        for dx, dy in directions:\n",
    "            nx, ny = x + dx, y + dy\n",
    "            if 0 <= nx < len(maze[0]) and 0 <= ny < len(maze):\n",
    "                if maze[ny][nx] in ['.', 'E'] and (nx, ny) not in visited:\n",
    "                    stack.append((nx, ny))\n",
    "                    visited.add((nx, ny))\n",
    "                    path[(nx, ny)] = (x, y)\n",
    "                    break\n",
    "        else:\n",
    "            stack.pop()\n",
    "    \n",
    "    # Reconstruct path\n",
    "    solution = []\n",
    "    if current == end:\n",
    "        while current != start:\n",
    "            solution.append(current)\n",
    "            current = path[current]\n",
    "        solution.append(start)\n",
    "        solution.reverse()\n",
    "    return solution\n",
    "\n",
    "def visualize_solution(maze, solution):\n",
    "    for x, y in solution:\n",
    "        if maze[y][x] not in ['S', 'E']:\n",
    "            maze[y][x] = '-'\n",
    "    return maze\n",
    "\n",
    "def main():\n",
    "    width, height = 21, 21 \n",
    "    maze = generate_maze(width, height)\n",
    "    \n",
    "    print(\"Generated Maze:\")\n",
    "    print_maze(maze)\n",
    "    \n",
    "    start = (1, 1)\n",
    "    end = (height - 2, width - 2)\n",
    "    \n",
    "    solution = dfs(maze, start, end)\n",
    "    \n",
    "    if solution:\n",
    "        print(\"\\nSolution Path (marked with '*'):\")\n",
    "        maze_with_solution = visualize_solution([row[:] for row in maze], solution)\n",
    "        print_maze(maze_with_solution)\n",
    "    else:\n",
    "        print(\"\\nNo solution found!\")\n",
    "\n",
    "if __name__ == \"__main__\":\n",
    "    main()\n"
   ]
  },
  {
   "cell_type": "code",
   "execution_count": null,
   "id": "afa7b544-8a6f-4c23-8d59-185dfe067c07",
   "metadata": {},
   "outputs": [],
   "source": []
  }
 ],
 "metadata": {
  "kernelspec": {
   "display_name": "Python 3 (ipykernel)",
   "language": "python",
   "name": "python3"
  },
  "language_info": {
   "codemirror_mode": {
    "name": "ipython",
    "version": 3
   },
   "file_extension": ".py",
   "mimetype": "text/x-python",
   "name": "python",
   "nbconvert_exporter": "python",
   "pygments_lexer": "ipython3",
   "version": "3.12.4"
  }
 },
 "nbformat": 4,
 "nbformat_minor": 5
}
